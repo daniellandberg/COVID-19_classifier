{
 "cells": [
  {
   "cell_type": "code",
   "execution_count": null,
   "metadata": {},
   "outputs": [],
   "source": [
    "import numpy as np\n",
    "import cv2\n",
    "import os\n",
    "from random import shuffle\n",
    "from tqdm import tqdm\n",
    "import pickle\n",
    "import matplotlib.pyplot as plt\n",
    "\n",
    "#change path from test to train if you want training data\n",
    "size = 60\n",
    "train_Corona = 'CORONA' #path to data\n",
    "train_Normal = 'NORMAL'\n",
    "create_train_data()"
   ]
  },
  {
   "cell_type": "code",
   "execution_count": null,
   "metadata": {},
   "outputs": [],
   "source": []
  },
  {
   "cell_type": "code",
   "execution_count": null,
   "metadata": {},
   "outputs": [],
   "source": [
    "def create_train_data():\n",
    "    training_data = []\n",
    "    Normal = []\n",
    "    for img in tqdm(os.listdir(train_Corona)):\n",
    "        try:\n",
    "            label = label_img(img)\n",
    "            path = os.path.join(train_Corona, img)\n",
    "            temp = cv2.imread(path, cv2.IMREAD_GRAYSCALE)\n",
    "            img = cv2.resize(temp, (size, size))\n",
    "            training_data.append([img, label])\n",
    "        except:\n",
    "            pass\n",
    "    for img in tqdm(os.listdir(train_Normal)):\n",
    "        try:\n",
    "            label = label_img(img)\n",
    "            path = os.path.join(train_Normal, img)\n",
    "            temp = cv2.imread(path, cv2.IMREAD_GRAYSCALE)\n",
    "            img = cv2.resize(temp, (size, size))\n",
    "            Normal.append([img, label])\n",
    "        except: \n",
    "            pass\n",
    "    shuffle(Normal)\n",
    "    loops = len(training_data) - 1\n",
    "    breaker = 0\n",
    "    for i, l in Normal:\n",
    "        img = i\n",
    "        label = l\n",
    "        training_data.append([img, label])\n",
    "        breaker = breaker + 1\n",
    "        if breaker == loops:\n",
    "            break\n",
    "        \n",
    "    shuffle(training_data)\n",
    "    make_output(training_data)\n",
    "    \n",
    "    return training_data"
   ]
  },
  {
   "cell_type": "code",
   "execution_count": null,
   "metadata": {},
   "outputs": [],
   "source": [
    "def label_img(img):\n",
    "    word_label = img.split('.')[-2]\n",
    "    word_label = word_label.lower()\n",
    "    if 'corona' in word_label:\n",
    "        return 1\n",
    "    else:\n",
    "        return 0"
   ]
  },
  {
   "cell_type": "code",
   "execution_count": null,
   "metadata": {},
   "outputs": [],
   "source": [
    "def make_output(training_data):\n",
    "    X = []\n",
    "    y = []\n",
    "    print(training_data[0])\n",
    "    for f, l in training_data:\n",
    "        \n",
    "        X.append(f)\n",
    "        y.append(l)\n",
    "    X = np.array(X).reshape(-1, size, size, 1)\n",
    "    y = np.array(y)\n",
    "    pickle_out = open(\"XCorona.pickle\", \"wb\")\n",
    "    pickle.dump(X, pickle_out)\n",
    "    pickle_out.close()\n",
    "\n",
    "    pickle_out = open(\"yCorona.pickle\", \"wb\")\n",
    "    pickle.dump(y, pickle_out)\n",
    "    pickle_out.close()"
   ]
  },
  {
   "cell_type": "code",
   "execution_count": null,
   "metadata": {},
   "outputs": [],
   "source": []
  },
  {
   "cell_type": "code",
   "execution_count": null,
   "metadata": {},
   "outputs": [],
   "source": []
  },
  {
   "cell_type": "code",
   "execution_count": null,
   "metadata": {},
   "outputs": [],
   "source": []
  },
  {
   "cell_type": "code",
   "execution_count": null,
   "metadata": {},
   "outputs": [],
   "source": []
  },
  {
   "cell_type": "code",
   "execution_count": null,
   "metadata": {},
   "outputs": [],
   "source": []
  },
  {
   "cell_type": "code",
   "execution_count": null,
   "metadata": {},
   "outputs": [],
   "source": []
  },
  {
   "cell_type": "code",
   "execution_count": null,
   "metadata": {},
   "outputs": [],
   "source": []
  },
  {
   "cell_type": "code",
   "execution_count": null,
   "metadata": {},
   "outputs": [],
   "source": []
  }
 ],
 "metadata": {
  "kernelspec": {
   "display_name": "Python 3.7 (tensorflow)",
   "language": "python",
   "name": "tensorflow"
  },
  "language_info": {
   "codemirror_mode": {
    "name": "ipython",
    "version": 3
   },
   "file_extension": ".py",
   "mimetype": "text/x-python",
   "name": "python",
   "nbconvert_exporter": "python",
   "pygments_lexer": "ipython3",
   "version": "3.7.7"
  }
 },
 "nbformat": 4,
 "nbformat_minor": 4
}
