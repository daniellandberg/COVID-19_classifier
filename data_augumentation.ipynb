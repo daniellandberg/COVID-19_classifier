{
 "cells": [
  {
   "cell_type": "code",
   "execution_count": null,
   "metadata": {},
   "outputs": [
    {
     "name": "stderr",
     "output_type": "stream",
     "text": [
      "Using TensorFlow backend.\n",
      "Using TensorFlow backend.\n",
      "  0%|          | 0/163 [00:00<?, ?it/s]"
     ]
    },
    {
     "name": "stdout",
     "output_type": "stream",
     "text": [
      "0\n",
      "person82_virus_155 (kopia)\n",
      "0\n",
      "person82_virus_155 (kopia)\n"
     ]
    },
    {
     "name": "stderr",
     "output_type": "stream",
     "text": [
      "  1%|          | 1/163 [00:02<06:51,  2.54s/it]"
     ]
    },
    {
     "name": "stdout",
     "output_type": "stream",
     "text": [
      "COVID\n",
      "covid-19-pneumonia-rapidly-progressive-3-days\n",
      "COVID\n",
      "covid-19-pneumonia-23-day9\n",
      "0\n",
      "pneumocystis-jirovecii-pneumonia-3-3\n",
      "COVID\n",
      "covid-19-pneumonia-rapidly-progressive-3-days\n",
      "COVID\n",
      "covid-19-pneumonia-23-day9\n",
      "0\n",
      "pneumocystis-jirovecii-pneumonia-3-3\n"
     ]
    },
    {
     "name": "stderr",
     "output_type": "stream",
     "text": [
      "  2%|▏         | 4/163 [00:15<08:15,  3.12s/it]"
     ]
    },
    {
     "name": "stdout",
     "output_type": "stream",
     "text": [
      "COVID\n",
      "covid-19-pneumonia-22-day2-pa\n",
      "0\n",
      "jkms-35-e79-g001-l-e\n",
      "COVID\n",
      "covid-19-pneumonia-22-day2-pa\n",
      "0\n",
      "jkms-35-e79-g001-l-e\n"
     ]
    },
    {
     "name": "stderr",
     "output_type": "stream",
     "text": [
      "  4%|▎         | 6/163 [00:16<05:52,  2.25s/it]"
     ]
    },
    {
     "name": "stdout",
     "output_type": "stream",
     "text": [
      "0\n",
      "jkms-35-e79-g001-l-d\n",
      "0\n",
      "jkms-35-e79-g001-l-d\n"
     ]
    },
    {
     "name": "stderr",
     "output_type": "stream",
     "text": [
      "  4%|▍         | 7/163 [00:16<04:25,  1.70s/it]"
     ]
    },
    {
     "name": "stdout",
     "output_type": "stream",
     "text": [
      "COVID\n",
      "covid-19-pneumonia-58-prior\n",
      "0\n",
      "pneumocystis-carinii-pneumonia-1-pa\n",
      "COVID\n",
      "covid-19-pneumonia-58-prior\n",
      "0\n",
      "pneumocystis-carinii-pneumonia-1-pa\n"
     ]
    },
    {
     "name": "stderr",
     "output_type": "stream",
     "text": [
      "  6%|▌         | 9/163 [00:17<03:18,  1.29s/it]"
     ]
    },
    {
     "name": "stdout",
     "output_type": "stream",
     "text": [
      "0\n",
      "242035193-g04mr34g05x-fig5-day9\n",
      "0\n",
      "242035193-g04mr34g05x-fig5-day9\n"
     ]
    },
    {
     "name": "stderr",
     "output_type": "stream",
     "text": [
      "  6%|▌         | 10/163 [00:23<06:56,  2.72s/it]"
     ]
    },
    {
     "name": "stdout",
     "output_type": "stream",
     "text": [
      "0\n",
      "person77_bacteria_374 (kopia)\n",
      "0\n",
      "person77_bacteria_374 (kopia)\n"
     ]
    },
    {
     "name": "stderr",
     "output_type": "stream",
     "text": [
      "  7%|▋         | 11/163 [00:25<06:11,  2.45s/it]"
     ]
    },
    {
     "name": "stdout",
     "output_type": "stream",
     "text": [
      "0\n",
      "0-s0929664620300449-gr3_lrg-d\n",
      "0\n",
      "0-s0929664620300449-gr3_lrg-d\n"
     ]
    },
    {
     "name": "stderr",
     "output_type": "stream",
     "text": [
      "  7%|▋         | 12/163 [00:27<06:13,  2.48s/it]"
     ]
    },
    {
     "name": "stdout",
     "output_type": "stream",
     "text": [
      "0\n",
      "242035193-g04mr34g09a-fig9a-day17\n",
      "0\n",
      "242035193-g04mr34g09a-fig9a-day17\n"
     ]
    },
    {
     "name": "stderr",
     "output_type": "stream",
     "text": [
      "  8%|▊         | 13/163 [00:34<09:19,  3.73s/it]"
     ]
    },
    {
     "name": "stdout",
     "output_type": "stream",
     "text": [
      "COVID\n",
      "covid-19-pneumonia-rapidly-progressive-12-hours\n",
      "0\n",
      "im-0386-0001 (kopia)\n",
      "COVID\n",
      "covid-19-pneumonia-rapidly-progressive-12-hours\n",
      "0\n",
      "im-0386-0001 (kopia)\n"
     ]
    },
    {
     "name": "stderr",
     "output_type": "stream",
     "text": [
      "  9%|▉         | 15/163 [00:38<08:01,  3.25s/it]"
     ]
    },
    {
     "name": "stdout",
     "output_type": "stream",
     "text": [
      "0\n",
      "nejmoa2001191_f3-l\n",
      "0\n",
      "nejmoa2001191_f3-l\n"
     ]
    },
    {
     "name": "stderr",
     "output_type": "stream",
     "text": [
      " 10%|▉         | 16/163 [00:40<06:39,  2.72s/it]"
     ]
    },
    {
     "name": "stdout",
     "output_type": "stream",
     "text": [
      "0\n",
      "pneumocystis-pneumonia-2-l\n",
      "0\n",
      "pneumocystis-pneumonia-2-l\n"
     ]
    },
    {
     "name": "stderr",
     "output_type": "stream",
     "text": [
      " 10%|█         | 17/163 [00:42<06:02,  2.49s/it]"
     ]
    },
    {
     "name": "stdout",
     "output_type": "stream",
     "text": [
      "0\n",
      "pneumocystis-pneumonia-12\n",
      "0\n",
      "pneumocystis-pneumonia-12\n"
     ]
    },
    {
     "name": "stderr",
     "output_type": "stream",
     "text": [
      " 11%|█         | 18/163 [00:43<05:23,  2.23s/it]"
     ]
    },
    {
     "name": "stdout",
     "output_type": "stream",
     "text": [
      "0\n",
      "pneumocystis-jirovecii-pneumonia-3-1\n",
      "0\n",
      "pneumocystis-jirovecii-pneumonia-3-1\n"
     ]
    },
    {
     "name": "stderr",
     "output_type": "stream",
     "text": [
      " 12%|█▏        | 19/163 [00:56<13:10,  5.49s/it]"
     ]
    },
    {
     "name": "stdout",
     "output_type": "stream",
     "text": [
      "0\n",
      "nejmoa2001191_f5-pa\n",
      "0\n",
      "nejmoa2001191_f5-pa\n"
     ]
    },
    {
     "name": "stderr",
     "output_type": "stream",
     "text": [
      " 12%|█▏        | 20/163 [00:59<10:39,  4.47s/it]"
     ]
    },
    {
     "name": "stdout",
     "output_type": "stream",
     "text": [
      "0\n",
      "pneumocystis-pneumonia-1\n",
      "0\n",
      "pneumocystis-pneumonia-1\n"
     ]
    },
    {
     "name": "stderr",
     "output_type": "stream",
     "text": [
      " 13%|█▎        | 21/163 [01:04<11:17,  4.77s/it]"
     ]
    },
    {
     "name": "stdout",
     "output_type": "stream",
     "text": [
      "0\n",
      "person88_virus_164 (kopia)\n",
      "0\n",
      "person88_virus_164 (kopia)\n"
     ]
    },
    {
     "name": "stderr",
     "output_type": "stream",
     "text": [
      " 13%|█▎        | 22/163 [01:08<10:23,  4.42s/it]"
     ]
    },
    {
     "name": "stdout",
     "output_type": "stream",
     "text": [
      "0\n",
      "person81_virus_153 (kopia)\n",
      "0\n",
      "person81_virus_153 (kopia)\n"
     ]
    },
    {
     "name": "stderr",
     "output_type": "stream",
     "text": [
      " 14%|█▍        | 23/163 [01:11<09:31,  4.08s/it]"
     ]
    },
    {
     "name": "stdout",
     "output_type": "stream",
     "text": [
      "0\n",
      "person88_virus_163 (kopia)\n",
      "0\n",
      "person88_virus_163 (kopia)\n"
     ]
    },
    {
     "name": "stderr",
     "output_type": "stream",
     "text": [
      " 15%|█▍        | 24/163 [01:15<09:16,  4.01s/it]"
     ]
    },
    {
     "name": "stdout",
     "output_type": "stream",
     "text": [
      "0\n",
      "242035193-g04mr34g0-fig8a-day0\n",
      "0\n",
      "242035193-g04mr34g0-fig8a-day0\n"
     ]
    },
    {
     "name": "stderr",
     "output_type": "stream",
     "text": [
      " 15%|█▌        | 25/163 [01:20<10:13,  4.45s/it]"
     ]
    },
    {
     "name": "stdout",
     "output_type": "stream",
     "text": [
      "0\n",
      "nejmoa2001191_f1-l\n",
      "0\n",
      "nejmoa2001191_f1-l\n"
     ]
    },
    {
     "name": "stderr",
     "output_type": "stream",
     "text": [
      " 16%|█▌        | 26/163 [01:21<07:57,  3.49s/it]"
     ]
    },
    {
     "name": "stdout",
     "output_type": "stream",
     "text": [
      "0\n",
      "nejmc2001573_f1a\n",
      "0\n",
      "nejmc2001573_f1a\n"
     ]
    },
    {
     "name": "stderr",
     "output_type": "stream",
     "text": [
      " 17%|█▋        | 27/163 [01:26<08:47,  3.88s/it]"
     ]
    },
    {
     "name": "stdout",
     "output_type": "stream",
     "text": [
      "COVID\n",
      "covid-19-pneumonia-43-day0\n",
      "0\n",
      "person77_bacteria_375 (kopia)\n",
      "COVID\n",
      "covid-19-pneumonia-43-day0\n",
      "0\n",
      "person77_bacteria_375 (kopia)\n"
     ]
    },
    {
     "name": "stderr",
     "output_type": "stream",
     "text": [
      " 18%|█▊        | 29/163 [01:28<06:42,  3.00s/it]"
     ]
    },
    {
     "name": "stdout",
     "output_type": "stream",
     "text": [
      "0\n",
      "\n",
      "COVID\n",
      "covid-19-pneumonia-30-pa\n",
      "0\n",
      "jkms-35-e79-g001-l-c\n",
      "0\n",
      "\n",
      "COVID\n",
      "covid-19-pneumonia-30-pa\n",
      "0\n",
      "jkms-35-e79-g001-l-c\n"
     ]
    },
    {
     "name": "stderr",
     "output_type": "stream",
     "text": [
      " 20%|█▉        | 32/163 [01:29<04:41,  2.15s/it]"
     ]
    },
    {
     "name": "stdout",
     "output_type": "stream",
     "text": [
      "0\n",
      "jkms-35-e79-g001-l-b\n",
      "0\n",
      "jkms-35-e79-g001-l-b\n"
     ]
    },
    {
     "name": "stderr",
     "output_type": "stream",
     "text": [
      " 20%|██        | 33/163 [01:29<03:27,  1.60s/it]"
     ]
    },
    {
     "name": "stdout",
     "output_type": "stream",
     "text": [
      "0\n",
      "person82_virus_154 (kopia)\n",
      "0\n",
      "person82_virus_154 (kopia)\n"
     ]
    },
    {
     "name": "stderr",
     "output_type": "stream",
     "text": [
      " 21%|██        | 34/163 [01:32<04:11,  1.95s/it]"
     ]
    },
    {
     "name": "stdout",
     "output_type": "stream",
     "text": [
      "COVID\n",
      "covid-19-pneumonia-14-pa\n",
      "0\n",
      "0-s0929664620300449-gr3_lrg-b\n",
      "COVID\n",
      "covid-19-pneumonia-14-pa\n",
      "0\n",
      "0-s0929664620300449-gr3_lrg-b\n"
     ]
    },
    {
     "name": "stderr",
     "output_type": "stream",
     "text": [
      " 22%|██▏       | 36/163 [01:34<03:38,  1.72s/it]"
     ]
    },
    {
     "name": "stdout",
     "output_type": "stream",
     "text": [
      "COVID\n",
      "covid-19-pneumonia-44-day-0\n",
      "0\n",
      "242035193-g04mr34g04a-fig4a-day7\n",
      "COVID\n",
      "covid-19-pneumonia-44-day-0\n",
      "0\n",
      "242035193-g04mr34g04a-fig4a-day7\n"
     ]
    },
    {
     "name": "stderr",
     "output_type": "stream",
     "text": [
      " 23%|██▎       | 38/163 [01:41<04:38,  2.23s/it]"
     ]
    },
    {
     "name": "stdout",
     "output_type": "stream",
     "text": [
      "0\n",
      "im-0387-0001 (kopia)\n",
      "0\n",
      "im-0387-0001 (kopia)\n"
     ]
    },
    {
     "name": "stderr",
     "output_type": "stream",
     "text": [
      " 24%|██▍       | 39/163 [01:48<07:49,  3.78s/it]"
     ]
    },
    {
     "name": "stdout",
     "output_type": "stream",
     "text": [
      "0\n",
      "person81_virus_152 (kopia)\n",
      "0\n",
      "person81_virus_152 (kopia)\n"
     ]
    },
    {
     "name": "stderr",
     "output_type": "stream",
     "text": [
      " 25%|██▍       | 40/163 [01:52<07:25,  3.62s/it]"
     ]
    },
    {
     "name": "stdout",
     "output_type": "stream",
     "text": [
      "COVID\n",
      "covid-19-pneumonia-38-l\n",
      "0\n",
      "person88_virus_165 (kopia)\n",
      "COVID\n",
      "covid-19-pneumonia-38-l\n",
      "0\n",
      "person88_virus_165 (kopia)\n"
     ]
    },
    {
     "name": "stderr",
     "output_type": "stream",
     "text": [
      " 26%|██▌       | 42/163 [01:55<06:15,  3.10s/it]"
     ]
    },
    {
     "name": "stdout",
     "output_type": "stream",
     "text": [
      "COVID\n",
      "covid-19-pneumonia-49-day8\n",
      "0\n",
      "jkms-35-e79-g001-l-a\n",
      "COVID\n",
      "covid-19-pneumonia-49-day8\n",
      "0\n",
      "jkms-35-e79-g001-l-a\n"
     ]
    },
    {
     "name": "stderr",
     "output_type": "stream",
     "text": [
      " 27%|██▋       | 44/163 [01:56<04:24,  2.22s/it]"
     ]
    },
    {
     "name": "stdout",
     "output_type": "stream",
     "text": [
      "0\n",
      "person76_bacteria_370 (kopia)\n",
      "0\n",
      "person76_bacteria_370 (kopia)\n"
     ]
    },
    {
     "name": "stderr",
     "output_type": "stream",
     "text": [
      " 28%|██▊       | 45/163 [01:59<04:48,  2.44s/it]"
     ]
    },
    {
     "name": "stdout",
     "output_type": "stream",
     "text": [
      "0\n",
      "0-s0929664620300449-gr3_lrg-c\n",
      "0\n",
      "0-s0929664620300449-gr3_lrg-c\n"
     ]
    },
    {
     "name": "stderr",
     "output_type": "stream",
     "text": [
      " 28%|██▊       | 46/163 [02:01<04:46,  2.45s/it]"
     ]
    },
    {
     "name": "stdout",
     "output_type": "stream",
     "text": [
      "COVID\n",
      "covid-19-pneumonia-evolution-over-a-week-1-day0-l\n",
      "COVID\n",
      "covid-19-pneumonia-35-1\n",
      "0\n",
      "person75_bacteria_366 (kopia)\n",
      "COVID\n",
      "covid-19-pneumonia-evolution-over-a-week-1-day0-l\n",
      "COVID\n",
      "covid-19-pneumonia-35-1\n",
      "0\n",
      "person75_bacteria_366 (kopia)\n"
     ]
    },
    {
     "name": "stderr",
     "output_type": "stream",
     "text": [
      " 30%|███       | 49/163 [02:03<03:34,  1.88s/it]"
     ]
    },
    {
     "name": "stdout",
     "output_type": "stream",
     "text": [
      "COVID\n",
      "covid-19-rapidly-progressive-acute-respiratory-distress-syndrome-ards-day-2\n",
      "0\n",
      "ncov-snohomish-20382862_web1_m1-lungs-edh-200201-640x300@2x\n",
      "COVID\n",
      "covid-19-rapidly-progressive-acute-respiratory-distress-syndrome-ards-day-2\n",
      "0\n",
      "ncov-snohomish-20382862_web1_m1-lungs-edh-200201-640x300@2x\n"
     ]
    },
    {
     "name": "stderr",
     "output_type": "stream",
     "text": [
      " 31%|███▏      | 51/163 [02:04<02:43,  1.46s/it]"
     ]
    },
    {
     "name": "stdout",
     "output_type": "stream",
     "text": [
      "COVID\n",
      "covid-19-pneumonia-58-day-10\n",
      "COVID\n",
      "covid-19-rapidly-progressive-acute-respiratory-distress-syndrome-ards-day-3\n",
      "0\n",
      "pneumococcal-pneumonia-day0\n",
      "COVID\n",
      "covid-19-pneumonia-58-day-10\n",
      "COVID\n",
      "covid-19-rapidly-progressive-acute-respiratory-distress-syndrome-ards-day-3\n",
      "0\n",
      "pneumococcal-pneumonia-day0\n"
     ]
    },
    {
     "name": "stderr",
     "output_type": "stream",
     "text": [
      " 33%|███▎      | 54/163 [02:18<04:28,  2.46s/it]"
     ]
    },
    {
     "name": "stdout",
     "output_type": "stream",
     "text": [
      "0\n",
      "lancet-case2a\n",
      "0\n",
      "lancet-case2a\n"
     ]
    },
    {
     "name": "stderr",
     "output_type": "stream",
     "text": [
      " 34%|███▎      | 55/163 [02:22<05:23,  2.99s/it]"
     ]
    },
    {
     "name": "stdout",
     "output_type": "stream",
     "text": [
      "COVID\n",
      "covid-19-pneumonia-38-pa\n",
      "0\n",
      "fig1-day7\n",
      "COVID\n",
      "covid-19-pneumonia-38-pa\n",
      "0\n",
      "fig1-day7\n"
     ]
    },
    {
     "name": "stderr",
     "output_type": "stream",
     "text": [
      " 35%|███▍      | 57/163 [02:23<03:58,  2.25s/it]"
     ]
    },
    {
     "name": "stdout",
     "output_type": "stream",
     "text": [
      "0\n",
      "pneumocystis-jiroveci-pneumonia-4-pa\n",
      "0\n",
      "pneumocystis-jiroveci-pneumonia-4-pa\n"
     ]
    },
    {
     "name": "stderr",
     "output_type": "stream",
     "text": [
      " 36%|███▌      | 58/163 [02:38<10:33,  6.04s/it]"
     ]
    },
    {
     "name": "stdout",
     "output_type": "stream",
     "text": [
      "COVID\n",
      "covid-19-pneumonia-7-l\n",
      "0\n",
      "0-s0378603x1500248x-gr4e\n",
      "COVID\n",
      "covid-19-pneumonia-7-l\n",
      "0\n",
      "0-s0378603x1500248x-gr4e\n"
     ]
    },
    {
     "name": "stderr",
     "output_type": "stream",
     "text": [
      " 37%|███▋      | 60/163 [02:39<07:24,  4.31s/it]"
     ]
    },
    {
     "name": "stdout",
     "output_type": "stream",
     "text": [
      "0\n",
      "0-s0929664620300449-gr2_lrg-d\n",
      "0\n",
      "0-s0929664620300449-gr2_lrg-d\n"
     ]
    },
    {
     "name": "stderr",
     "output_type": "stream",
     "text": [
      " 37%|███▋      | 61/163 [02:42<06:40,  3.93s/it]"
     ]
    },
    {
     "name": "stdout",
     "output_type": "stream",
     "text": [
      "COVID\n",
      "covid-19-pneumonia-20-pa-on-admission\n",
      "COVID\n",
      "covid-19-rapidly-progressive-acute-respiratory-distress-syndrome-ards-day-1\n",
      "COVID\n",
      "covid-19-pneumonia-28\n",
      "COVID\n",
      "covid-19-pneumonia-evolution-over-a-week-1-day0-pa\n",
      "0\n",
      "lancet-case2b\n",
      "COVID\n",
      "covid-19-pneumonia-20-pa-on-admission\n",
      "COVID\n",
      "covid-19-rapidly-progressive-acute-respiratory-distress-syndrome-ards-day-1\n",
      "COVID\n",
      "covid-19-pneumonia-28\n",
      "COVID\n",
      "covid-19-pneumonia-evolution-over-a-week-1-day0-pa\n",
      "0\n",
      "lancet-case2b\n"
     ]
    },
    {
     "name": "stderr",
     "output_type": "stream",
     "text": [
      " 40%|████      | 66/163 [02:46<04:51,  3.01s/it]"
     ]
    },
    {
     "name": "stdout",
     "output_type": "stream",
     "text": [
      "COVID\n",
      "covid-19-pneumonia-evolution-over-a-week-1-day6\n",
      "0\n",
      "legionella-pneumonia-1\n",
      "COVID\n",
      "covid-19-pneumonia-evolution-over-a-week-1-day6\n",
      "0\n",
      "legionella-pneumonia-1\n"
     ]
    },
    {
     "name": "stderr",
     "output_type": "stream",
     "text": [
      " 42%|████▏     | 68/163 [02:48<03:42,  2.34s/it]"
     ]
    },
    {
     "name": "stdout",
     "output_type": "stream",
     "text": [
      "COVID\n",
      "covid-19-pneumonia-58-day-3\n",
      "0\n",
      "0-s0929664620300449-gr2_lrg-a\n",
      "COVID\n",
      "covid-19-pneumonia-58-day-3\n",
      "0\n",
      "0-s0929664620300449-gr2_lrg-a\n"
     ]
    },
    {
     "name": "stderr",
     "output_type": "stream",
     "text": [
      " 43%|████▎     | 70/163 [02:51<03:12,  2.07s/it]"
     ]
    },
    {
     "name": "stdout",
     "output_type": "stream",
     "text": [
      "COVID\n",
      "covid-19-pneumonia-rapidly-progressive-admission\n",
      "0\n",
      "kjr-21-e24-g004-l-b\n",
      "COVID\n",
      "covid-19-pneumonia-rapidly-progressive-admission\n",
      "0\n",
      "kjr-21-e24-g004-l-b\n"
     ]
    },
    {
     "name": "stderr",
     "output_type": "stream",
     "text": [
      " 44%|████▍     | 72/163 [02:51<02:15,  1.49s/it]"
     ]
    },
    {
     "name": "stdout",
     "output_type": "stream",
     "text": [
      "0\n",
      "pneumococcal-pneumonia-day7\n",
      "0\n",
      "pneumococcal-pneumonia-day7\n"
     ]
    },
    {
     "name": "stderr",
     "output_type": "stream",
     "text": [
      " 45%|████▍     | 73/163 [03:06<08:28,  5.65s/it]"
     ]
    },
    {
     "name": "stdout",
     "output_type": "stream",
     "text": [
      "0\n",
      "pdf-001-fig2b\n",
      "0\n",
      "pdf-001-fig2b\n"
     ]
    },
    {
     "name": "stderr",
     "output_type": "stream",
     "text": [
      " 45%|████▌     | 74/163 [03:07<06:09,  4.15s/it]"
     ]
    },
    {
     "name": "stdout",
     "output_type": "stream",
     "text": [
      "COVID\n",
      "covid-19-pneumonia-2\n",
      "COVID\n",
      "covid-19-infection-exclusive-gastrointestinal-symptoms-l\n",
      "COVID\n",
      "covid-19-pneumonia-evolution-over-a-week-1-day3\n",
      "0\n",
      "person75_bacteria_367 (kopia)\n",
      "COVID\n",
      "covid-19-pneumonia-2\n",
      "COVID\n",
      "covid-19-infection-exclusive-gastrointestinal-symptoms-l\n",
      "COVID\n",
      "covid-19-pneumonia-evolution-over-a-week-1-day3\n",
      "0\n",
      "person75_bacteria_367 (kopia)\n"
     ]
    },
    {
     "name": "stderr",
     "output_type": "stream",
     "text": [
      " 48%|████▊     | 78/163 [03:08<04:14,  3.00s/it]"
     ]
    },
    {
     "name": "stdout",
     "output_type": "stream",
     "text": [
      "0\n",
      "pneumocystis-jiroveci-pneumonia-4-l\n",
      "0\n",
      "pneumocystis-jiroveci-pneumonia-4-l\n"
     ]
    },
    {
     "name": "stderr",
     "output_type": "stream",
     "text": [
      " 48%|████▊     | 79/163 [03:19<07:34,  5.42s/it]"
     ]
    },
    {
     "name": "stdout",
     "output_type": "stream",
     "text": [
      "0\n",
      "legionella-pneumonia-2\n",
      "0\n",
      "legionella-pneumonia-2\n"
     ]
    },
    {
     "name": "stderr",
     "output_type": "stream",
     "text": [
      " 49%|████▉     | 80/163 [03:24<07:05,  5.13s/it]"
     ]
    },
    {
     "name": "stdout",
     "output_type": "stream",
     "text": [
      "0\n",
      "242035193-g04mr34g0-fig8b-day5\n",
      "0\n",
      "242035193-g04mr34g0-fig8b-day5\n"
     ]
    },
    {
     "name": "stderr",
     "output_type": "stream",
     "text": [
      " 50%|████▉     | 81/163 [03:30<07:18,  5.35s/it]"
     ]
    },
    {
     "name": "stdout",
     "output_type": "stream",
     "text": [
      "0\n",
      "kjr-21-e24-g004-l-a\n",
      "0\n",
      "kjr-21-e24-g004-l-a\n"
     ]
    },
    {
     "name": "stderr",
     "output_type": "stream",
     "text": [
      " 50%|█████     | 82/163 [03:30<05:10,  3.83s/it]"
     ]
    },
    {
     "name": "stdout",
     "output_type": "stream",
     "text": [
      "0\n",
      "0-s0929664620300449-gr2_lrg-b\n",
      "0\n",
      "0-s0929664620300449-gr2_lrg-b\n"
     ]
    },
    {
     "name": "stderr",
     "output_type": "stream",
     "text": [
      " 51%|█████     | 83/163 [03:33<04:44,  3.56s/it]"
     ]
    },
    {
     "name": "stdout",
     "output_type": "stream",
     "text": [
      "0\n",
      "im-0385-0001 (kopia)\n",
      "0\n",
      "im-0385-0001 (kopia)\n"
     ]
    },
    {
     "name": "stderr",
     "output_type": "stream",
     "text": [
      " 52%|█████▏    | 84/163 [03:38<05:11,  3.95s/it]"
     ]
    },
    {
     "name": "stdout",
     "output_type": "stream",
     "text": [
      "COVID\n",
      "covid-19-pneumonia-12\n",
      "0\n",
      "klebsiella-pneumonia-1\n",
      "COVID\n",
      "covid-19-pneumonia-12\n",
      "0\n",
      "klebsiella-pneumonia-1\n"
     ]
    },
    {
     "name": "stderr",
     "output_type": "stream",
     "text": [
      " 53%|█████▎    | 86/163 [03:39<03:45,  2.93s/it]"
     ]
    },
    {
     "name": "stdout",
     "output_type": "stream",
     "text": [
      "COVID\n",
      "covid-19-pneumonia-67\n",
      "0\n",
      "0-s0929664620300449-gr2_lrg-c\n",
      "COVID\n",
      "covid-19-pneumonia-67\n",
      "0\n",
      "0-s0929664620300449-gr2_lrg-c\n"
     ]
    },
    {
     "name": "stderr",
     "output_type": "stream",
     "text": [
      " 54%|█████▍    | 88/163 [03:42<03:05,  2.48s/it]"
     ]
    },
    {
     "name": "stdout",
     "output_type": "stream",
     "text": [
      "COVID\n",
      "covid-19-pneumonia-41-day-2\n",
      "COVID\n",
      "post-intubuation-pneumomediastium-and-pneumothorax-background-covid-19-pneumonia-day7\n",
      "0\n",
      "pdf-002-a1\n",
      "COVID\n",
      "covid-19-pneumonia-41-day-2\n",
      "COVID\n",
      "post-intubuation-pneumomediastium-and-pneumothorax-background-covid-19-pneumonia-day7\n",
      "0\n",
      "pdf-002-a1\n"
     ]
    },
    {
     "name": "stderr",
     "output_type": "stream",
     "text": [
      " 56%|█████▌    | 91/163 [03:42<02:07,  1.77s/it]"
     ]
    },
    {
     "name": "stdout",
     "output_type": "stream",
     "text": [
      "COVID\n",
      "covid-19-pneumonia-24-day6\n",
      "0\n",
      "pdf-002-fig3a\n",
      "COVID\n",
      "covid-19-pneumonia-24-day6\n",
      "0\n",
      "pdf-002-fig3a\n"
     ]
    },
    {
     "name": "stderr",
     "output_type": "stream",
     "text": [
      " 57%|█████▋    | 93/163 [03:43<01:33,  1.34s/it]"
     ]
    },
    {
     "name": "stdout",
     "output_type": "stream",
     "text": [
      "0\n",
      "person84_virus_157 (kopia)\n",
      "0\n",
      "person84_virus_157 (kopia)\n"
     ]
    },
    {
     "name": "stderr",
     "output_type": "stream",
     "text": [
      " 59%|█████▉    | 96/163 [03:45<01:12,  1.08s/it]"
     ]
    },
    {
     "name": "stdout",
     "output_type": "stream",
     "text": [
      "COVID\n",
      "covid-19-pneumonia-24-day7\n",
      "0\n",
      "kjr-21-e24-g001-l-a\n",
      "0\n",
      "242035193-g04mr34g09c-fig9c-day27\n",
      "COVID\n",
      "covid-19-pneumonia-24-day7\n",
      "0\n",
      "kjr-21-e24-g001-l-a\n",
      "0\n",
      "242035193-g04mr34g09c-fig9c-day27\n"
     ]
    },
    {
     "name": "stderr",
     "output_type": "stream",
     "text": [
      " 60%|█████▉    | 97/163 [03:52<03:09,  2.87s/it]"
     ]
    },
    {
     "name": "stdout",
     "output_type": "stream",
     "text": [
      "0\n",
      "person87_virus_160 (kopia)\n",
      "0\n",
      "person87_virus_160 (kopia)\n"
     ]
    },
    {
     "name": "stderr",
     "output_type": "stream",
     "text": [
      " 60%|██████    | 98/163 [03:56<03:30,  3.24s/it]"
     ]
    },
    {
     "name": "stdout",
     "output_type": "stream",
     "text": [
      "0\n",
      "parapneumonic-effusion-1-l\n",
      "0\n",
      "parapneumonic-effusion-1-l\n"
     ]
    },
    {
     "name": "stderr",
     "output_type": "stream",
     "text": [
      " 61%|██████    | 99/163 [04:09<06:35,  6.19s/it]"
     ]
    },
    {
     "name": "stdout",
     "output_type": "stream",
     "text": [
      "0\n",
      "kjr-21-e24-g001-l-c\n",
      "0\n",
      "kjr-21-e24-g001-l-c\n"
     ]
    },
    {
     "name": "stderr",
     "output_type": "stream",
     "text": [
      " 61%|██████▏   | 100/163 [04:09<04:37,  4.40s/it]"
     ]
    },
    {
     "name": "stdout",
     "output_type": "stream",
     "text": [
      "0\n",
      "pdf-002-a2\n",
      "0\n",
      "pdf-002-a2\n"
     ]
    },
    {
     "name": "stderr",
     "output_type": "stream",
     "text": [
      " 62%|██████▏   | 101/163 [04:09<03:17,  3.19s/it]"
     ]
    },
    {
     "name": "stdout",
     "output_type": "stream",
     "text": [
      "0\n",
      "0-s0140673620303706-fx1_lrg\n",
      "0\n",
      "0-s0140673620303706-fx1_lrg\n"
     ]
    },
    {
     "name": "stderr",
     "output_type": "stream",
     "text": [
      " 63%|██████▎   | 102/163 [04:16<04:16,  4.20s/it]"
     ]
    },
    {
     "name": "stdout",
     "output_type": "stream",
     "text": [
      "0\n",
      "pdf-002-fig3b\n",
      "0\n",
      "pdf-002-fig3b\n"
     ]
    },
    {
     "name": "stderr",
     "output_type": "stream",
     "text": [
      " 63%|██████▎   | 103/163 [04:17<03:07,  3.13s/it]"
     ]
    },
    {
     "name": "stdout",
     "output_type": "stream",
     "text": [
      "0\n",
      "242035193-g04mr34g0-fig8c-day10\n",
      "0\n",
      "242035193-g04mr34g0-fig8c-day10\n"
     ]
    }
   ],
   "source": [
    "import numpy as np\n",
    "import cv2\n",
    "import os\n",
    "from random import shuffle\n",
    "from tqdm import tqdm\n",
    "import pickle\n",
    "import matplotlib.pyplot as plt\n",
    "from keras.preprocessing.image import ImageDataGenerator, array_to_img, img_to_array, load_img\n",
    "\n",
    "Images = 'Corona-images'\n",
    "\n",
    "datagen = ImageDataGenerator(\n",
    "        rotation_range=15,\n",
    "        width_shift_range=0.1,\n",
    "        height_shift_range=0.1,\n",
    "        shear_range=0.1,\n",
    "        zoom_range=0.15,\n",
    "        horizontal_flip=True,\n",
    "        fill_mode='nearest')\n",
    "\n",
    "for img in tqdm(os.listdir(Images)):\n",
    "    try:\n",
    "        label = label_img(img)\n",
    "        if label == 1:\n",
    "            continue\n",
    "        path = os.path.join(Images, img)\n",
    "        img = load_img(path)  # this is a PIL image\n",
    "        x = img_to_array(img)  # this is a Numpy array with shape (3, 150, 150)\n",
    "        x = x.reshape((1,) + x.shape)  # this is a Numpy array with shape (1, 3, 150, 150)\n",
    "\n",
    "# the .flow() command below generates batches of randomly transformed images\n",
    "# and saves the results to the `preview/` directory\n",
    "        i = 0\n",
    "        for batch in datagen.flow(x, batch_size=1,\n",
    "                          save_to_dir='NORMAL', save_prefix='normal', save_format='jpeg'):\n",
    "            i += 1\n",
    "            if i > 8:\n",
    "                break  # otherwise the generator would loop indefinitely\n",
    "    except:\n",
    "        pass"
   ]
  },
  {
   "cell_type": "code",
   "execution_count": 1,
   "metadata": {},
   "outputs": [],
   "source": [
    "def label_img(img):\n",
    "    word_label = img.split('.')[-2]\n",
    "    word_label = word_label.lower()\n",
    "    if 'covid' in word_label:\n",
    "        print(\"COVID\")\n",
    "        print(word_label)\n",
    "        return 1\n",
    "    elif 'corona' in word_label:\n",
    "        print(\"CORONA\")\n",
    "        print(word_label)\n",
    "        return 1\n",
    "    else:\n",
    "        print(\"0\")\n",
    "        print(word_label)\n",
    "        return 0"
   ]
  },
  {
   "cell_type": "code",
   "execution_count": null,
   "metadata": {},
   "outputs": [],
   "source": []
  },
  {
   "cell_type": "code",
   "execution_count": null,
   "metadata": {},
   "outputs": [],
   "source": []
  },
  {
   "cell_type": "code",
   "execution_count": null,
   "metadata": {},
   "outputs": [],
   "source": []
  },
  {
   "cell_type": "code",
   "execution_count": null,
   "metadata": {},
   "outputs": [],
   "source": []
  }
 ],
 "metadata": {
  "kernelspec": {
   "display_name": "Python 3.7 (tensorflow)",
   "language": "python",
   "name": "tensorflow"
  },
  "language_info": {
   "codemirror_mode": {
    "name": "ipython",
    "version": 3
   },
   "file_extension": ".py",
   "mimetype": "text/x-python",
   "name": "python",
   "nbconvert_exporter": "python",
   "pygments_lexer": "ipython3",
   "version": "3.7.7"
  }
 },
 "nbformat": 4,
 "nbformat_minor": 4
}
