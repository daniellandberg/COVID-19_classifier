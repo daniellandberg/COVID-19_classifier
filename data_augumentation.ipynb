{
 "cells": [
  {
   "cell_type": "code",
   "execution_count": null,
   "metadata": {},
   "outputs": [],
   "source": [
    "import numpy as np\n",
    "import cv2\n",
    "import os\n",
    "from random import shuffle\n",
    "from tqdm import tqdm\n",
    "import pickle\n",
    "import matplotlib.pyplot as plt\n",
    "from keras.preprocessing.image import ImageDataGenerator, array_to_img, img_to_array, load_img\n",
    "\n",
    "Images = 'Corona-images'\n",
    "\n",
    "datagen = ImageDataGenerator(\n",
    "        rotation_range=15,\n",
    "        width_shift_range=0.1,\n",
    "        height_shift_range=0.1,\n",
    "        shear_range=0.1,\n",
    "        zoom_range=0.15,\n",
    "        horizontal_flip=True,\n",
    "        fill_mode='nearest')\n",
    "\n",
    "for img in tqdm(os.listdir(Images)):\n",
    "    try:\n",
    "        label = label_img(img)\n",
    "        if label == 1:\n",
    "            continue\n",
    "        path = os.path.join(Images, img)\n",
    "        img = load_img(path)  \n",
    "        x = img_to_array(img)  \n",
    "        x = x.reshape((1,) + x.shape)  \n",
    "\n",
    "        i = 0\n",
    "        for batch in datagen.flow(x, batch_size=1,\n",
    "                          save_to_dir='NORMAL', save_prefix='normal', save_format='jpeg'):\n",
    "            i += 1\n",
    "            if i > 8:\n",
    "                break  \n",
    "    except:\n",
    "        pass"
   ]
  },
  {
   "cell_type": "code",
   "execution_count": null,
   "metadata": {},
   "outputs": [],
   "source": [
    "def label_img(img):\n",
    "    word_label = img.split('.')[-2]\n",
    "    word_label = word_label.lower()\n",
    "    if 'covid' in word_label:\n",
    "        print(\"COVID\")\n",
    "        print(word_label)\n",
    "        return 1\n",
    "    elif 'corona' in word_label:\n",
    "        print(\"CORONA\")\n",
    "        print(word_label)\n",
    "        return 1\n",
    "    else:\n",
    "        print(\"0\")\n",
    "        print(word_label)\n",
    "        return 0"
   ]
  },
  {
   "cell_type": "code",
   "execution_count": null,
   "metadata": {},
   "outputs": [],
   "source": []
  },
  {
   "cell_type": "code",
   "execution_count": null,
   "metadata": {},
   "outputs": [],
   "source": []
  },
  {
   "cell_type": "code",
   "execution_count": null,
   "metadata": {},
   "outputs": [],
   "source": []
  },
  {
   "cell_type": "code",
   "execution_count": null,
   "metadata": {},
   "outputs": [],
   "source": []
  }
 ],
 "metadata": {
  "kernelspec": {
   "display_name": "Python 3.7 (tensorflow)",
   "language": "python",
   "name": "tensorflow"
  },
  "language_info": {
   "codemirror_mode": {
    "name": "ipython",
    "version": 3
   },
   "file_extension": ".py",
   "mimetype": "text/x-python",
   "name": "python",
   "nbconvert_exporter": "python",
   "pygments_lexer": "ipython3",
   "version": "3.7.7"
  }
 },
 "nbformat": 4,
 "nbformat_minor": 4
}
